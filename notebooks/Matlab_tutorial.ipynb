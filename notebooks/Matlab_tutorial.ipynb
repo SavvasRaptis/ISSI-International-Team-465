{
 "cells": [
  {
   "cell_type": "markdown",
   "id": "split-toilet",
   "metadata": {},
   "source": [
    "# Basic Matlab & Jupyter tutorial\n",
    "We will be using Matlab kernel in this example and the plots will be made via the irfu-matlab package.\n",
    "\n",
    "## Plotting\n",
    "\n",
    "Remember to change to format compact, for notebook examples since they look better that way in browser. "
   ]
  },
  {
   "cell_type": "code",
   "execution_count": 1,
   "id": "appreciated-granny",
   "metadata": {},
   "outputs": [
    {
     "name": "stdout",
     "output_type": "stream",
     "text": [
      "\n"
     ]
    }
   ],
   "source": [
    "format compact\n"
   ]
  },
  {
   "cell_type": "markdown",
   "id": "spoken-mechanics",
   "metadata": {},
   "source": [
    "If you want to plot within the notebook use the following code:\n",
    "\n",
    "```OCTAVE\n",
    "%plot inline\n",
    "```\n",
    "If you want the plot to appear in a seperate matlab window you can use this:\n",
    "\n",
    "```OCTAVE\n",
    "%plot native\n",
    "```\n",
    "\n",
    "Remember that inline plotting will not allow the same functionality as native (as in rotating, saving etc.)"
   ]
  },
  {
   "cell_type": "code",
   "execution_count": 2,
   "id": "accredited-treasurer",
   "metadata": {},
   "outputs": [
    {
     "name": "stdout",
     "output_type": "stream",
     "text": [
      "\n"
     ]
    }
   ],
   "source": [
    "tx = linspace (-8, 8, 41);\n",
    "ty = tx;\n",
    "[xx, yy] = meshgrid (tx, ty);\n",
    "r = sqrt (xx .^ 2 + yy .^ 2) + eps;\n",
    "tz = sin (r) ./ r;\n"
   ]
  },
  {
   "cell_type": "code",
   "execution_count": 3,
   "id": "arctic-determination",
   "metadata": {},
   "outputs": [
    {
     "name": "stdout",
     "output_type": "stream",
     "text": [
      "\n"
     ]
    }
   ],
   "source": [
    "%plot native\n",
    "mesh(tx, ty, tz);"
   ]
  },
  {
   "cell_type": "markdown",
   "id": "requested-flush",
   "metadata": {},
   "source": [
    "## Use of Libraries & Functions\n",
    "One can load Libraries that are connected to their local MATLAB instalation. For example if we have installed the irfu-matlab package, we can now simply load it\n"
   ]
  },
  {
   "cell_type": "code",
   "execution_count": 32,
   "id": "unauthorized-passport",
   "metadata": {},
   "outputs": [
    {
     "name": "stdout",
     "output_type": "stream",
     "text": [
      "irfu-matlab version:  v1.15.1\n",
      "Checking if you have latest irfu-matlab... NO!\n",
      " \n",
      "Newest irfu-matlab version:  v1.16.0\n",
      "Please update, see <a href=\"https://github.com/irfu/irfu-matlab\">https://github.com/irfu/irfu-matlab</a>\n",
      "Log of updates: \n",
      "2021-06-23 v1.16.0 NASA CDF patch, updated compiled Fortran mex, uppdated SolarOrbiter code base, and a lot more minor fixes.\n",
      " \n",
      "IRBEM is OK\n",
      "Operating system is OK\n",
      "Matlab version is OK\n",
      "CDF_LEAPSECONDSTABLE is OK\n",
      "\n"
     ]
    }
   ],
   "source": [
    "irf"
   ]
  },
  {
   "cell_type": "markdown",
   "id": "usual-background",
   "metadata": {},
   "source": [
    "Functions are a bit trickier with the integration of matlab and jupyter, but in theory we should avoid such bad practices when creating a notebook. After all, we make these to provide examples not to give detailed code. In any case, one can add one line functions or create locally multiline functions as shown in the examples below:\n",
    "\n",
    "\n",
    "Inline:\n",
    "```OCTAVE\n",
    "f=@(x) x^3+x-1;\n",
    "f(2)\n",
    "```\n",
    "Multiline:\n",
    "```OCTAVE\n",
    "%%file f2.m\n",
    "function c = f2(a,b)\n",
    "    c = a+b;\n",
    "end\n",
    "```\n"
   ]
  },
  {
   "cell_type": "markdown",
   "id": "structured-shade",
   "metadata": {},
   "source": [
    "Keep in mind that your local functions work just fine here. For example you can directly use the irf functions that are included from loading irf package before"
   ]
  },
  {
   "cell_type": "code",
   "execution_count": 59,
   "id": "owned-shoot",
   "metadata": {},
   "outputs": [
    {
     "name": "stdout",
     "output_type": "stream",
     "text": [
      "Epoch_TT_object = \n",
      "  EpochTT object : 1 records\n",
      "\n",
      "  2019-02-12T14:57:05.000000000Z\n",
      "\n",
      "\n"
     ]
    }
   ],
   "source": [
    "Epoch_TT_object = irf_time([2019 02 12 14 57 05 00],'vector>epochtt')\n"
   ]
  },
  {
   "cell_type": "markdown",
   "id": "elder-lesbian",
   "metadata": {},
   "source": [
    "## Example of SLAMS\n",
    "\n",
    "Here we will be seeing an example of a SLAMS as measured by ... \n",
    "\n",
    "In our example SLAMS satisfied the $B > 2 \\cdot \\langle B \\rangle_{}$"
   ]
  },
  {
   "cell_type": "code",
   "execution_count": 60,
   "id": "afraid-poultry",
   "metadata": {},
   "outputs": [
    {
     "name": "stdout",
     "output_type": "stream",
     "text": [
      "\n"
     ]
    }
   ],
   "source": [
    "B = textread('slams1.txt');\n",
    "B = irf_abs(B);\n",
    "B_avg = mean(B);"
   ]
  },
  {
   "cell_type": "code",
   "execution_count": 63,
   "id": "ecological-ebony",
   "metadata": {},
   "outputs": [
    {
     "name": "stdout",
     "output_type": "stream",
     "text": [
      "\n"
     ]
    },
    {
     "data": {
      "image/png": "[encoded data removed]",
      "text/plain": [
       "<IPython.core.display.Image object>"
      ]
     },
     "metadata": {},
     "output_type": "display_data"
    }
   ],
   "source": [
    "%plot inline\n",
    "hold on \n",
    "plot(B(:,4));\n",
    "yline(B_avg(4));"
   ]
  },
  {
   "cell_type": "code",
   "execution_count": null,
   "id": "commercial-circle",
   "metadata": {},
   "outputs": [],
   "source": []
  }
 ],
 "metadata": {
  "kernelspec": {
   "display_name": "Matlab",
   "language": "matlab",
   "name": "matlab"
  },
  "language_info": {
   "codemirror_mode": "octave",
   "file_extension": ".m",
   "help_links": [
    {
     "text": "MetaKernel Magics",
     "url": "https://metakernel.readthedocs.io/en/latest/source/README.html"
    }
   ],
   "mimetype": "text/x-octave",
   "name": "matlab",
   "version": "0.16.11"
  }
 },
 "nbformat": 4,
 "nbformat_minor": 5
}
