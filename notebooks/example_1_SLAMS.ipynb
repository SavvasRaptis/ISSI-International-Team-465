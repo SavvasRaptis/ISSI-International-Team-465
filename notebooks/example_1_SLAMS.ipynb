{
 "cells": [
  {
   "cell_type": "markdown",
   "id": "indonesian-representative",
   "metadata": {},
   "source": [
    "# Loading Data \n",
    "\n",
    "## Importing libraries and txt file"
   ]
  },
  {
   "cell_type": "markdown",
   "id": "written-supervisor",
   "metadata": {},
   "source": [
    "We can seperate the txt file into different features, since we don't know the physical qualities each index represent we will keep them as strings that correspond to each number."
   ]
  },
  {
   "cell_type": "code",
   "execution_count": 1,
   "id": "greatest-launch",
   "metadata": {},
   "outputs": [],
   "source": [
    "import os\n",
    "import tensorflow as tf\n",
    "import datetime\n",
    "import sys\n",
    "from os import path\n",
    "import numpy as np\n",
    "import pandas as pd\n",
    "\n"
   ]
  },
  {
   "cell_type": "code",
   "execution_count": null,
   "id": "interior-quarterly",
   "metadata": {},
   "outputs": [],
   "source": []
  }
 ],
 "metadata": {
  "kernelspec": {
   "display_name": "Python 3",
   "language": "python",
   "name": "python3"
  },
  "language_info": {
   "codemirror_mode": {
    "name": "ipython",
    "version": 3
   },
   "file_extension": ".py",
   "mimetype": "text/x-python",
   "name": "python",
   "nbconvert_exporter": "python",
   "pygments_lexer": "ipython3",
   "version": "3.7.10"
  }
 },
 "nbformat": 4,
 "nbformat_minor": 5
}
